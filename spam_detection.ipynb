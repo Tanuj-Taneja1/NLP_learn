{
 "cells": [
  {
   "cell_type": "code",
   "execution_count": 1,
   "id": "7d9a4554",
   "metadata": {
    "execution": {
     "iopub.execute_input": "2023-04-27T07:46:17.889259Z",
     "iopub.status.busy": "2023-04-27T07:46:17.888101Z",
     "iopub.status.idle": "2023-04-27T07:46:20.068347Z",
     "shell.execute_reply": "2023-04-27T07:46:20.066969Z"
    },
    "id": "aecfaf5a",
    "outputId": "3acce1c8-5a37-4dcb-ee2c-7838f4bc4c5f",
    "papermill": {
     "duration": 2.196411,
     "end_time": "2023-04-27T07:46:20.071863",
     "exception": false,
     "start_time": "2023-04-27T07:46:17.875452",
     "status": "completed"
    },
    "tags": []
   },
   "outputs": [
    {
     "name": "stdout",
     "output_type": "stream",
     "text": [
      "[nltk_data] Downloading package stopwords to /usr/share/nltk_data...\n",
      "[nltk_data]   Package stopwords is already up-to-date!\n",
      "[nltk_data] Downloading package wordnet to /usr/share/nltk_data...\n",
      "[nltk_data]   Package wordnet is already up-to-date!\n"
     ]
    }
   ],
   "source": [
    "import pandas as pd\n",
    "import numpy as np\n",
    "import matplotlib.pyplot as plt\n",
    "import nltk\n",
    "nltk.download([\"stopwords\",\"wordnet\"])\n",
    "from nltk.corpus import stopwords\n",
    "from nltk.stem.wordnet import WordNetLemmatizer as wn\n",
    "import string\n",
    "import re\n",
    "\n",
    "from sklearn.feature_extraction.text import TfidfVectorizer\n",
    "from sklearn.ensemble import RandomForestClassifier\n",
    "from sklearn.model_selection import KFold,cross_val_score"
   ]
  },
  {
   "cell_type": "markdown",
   "id": "492348c2",
   "metadata": {
    "id": "e0uiRcM27XZ_",
    "papermill": {
     "duration": 0.008901,
     "end_time": "2023-04-27T07:46:20.090666",
     "exception": false,
     "start_time": "2023-04-27T07:46:20.081765",
     "status": "completed"
    },
    "tags": []
   },
   "source": [
    "# Data Preporcessing "
   ]
  },
  {
   "cell_type": "code",
   "execution_count": 2,
   "id": "487095ef",
   "metadata": {
    "execution": {
     "iopub.execute_input": "2023-04-27T07:46:20.112485Z",
     "iopub.status.busy": "2023-04-27T07:46:20.111571Z",
     "iopub.status.idle": "2023-04-27T07:46:20.152363Z",
     "shell.execute_reply": "2023-04-27T07:46:20.151077Z"
    },
    "id": "8af76a59",
    "papermill": {
     "duration": 0.055153,
     "end_time": "2023-04-27T07:46:20.155375",
     "exception": false,
     "start_time": "2023-04-27T07:46:20.100222",
     "status": "completed"
    },
    "tags": []
   },
   "outputs": [],
   "source": [
    "data=pd.read_csv(\"/kaggle/input/sms-spam-collection/SpamCollectionSMS.txt\",sep=\"\\t\",names=[\"label\",\"text\"])"
   ]
  },
  {
   "cell_type": "code",
   "execution_count": 3,
   "id": "1e7c6d3e",
   "metadata": {
    "execution": {
     "iopub.execute_input": "2023-04-27T07:46:20.176931Z",
     "iopub.status.busy": "2023-04-27T07:46:20.176187Z",
     "iopub.status.idle": "2023-04-27T07:46:20.205064Z",
     "shell.execute_reply": "2023-04-27T07:46:20.203735Z"
    },
    "id": "60fb1061",
    "outputId": "4ac95e8f-c186-45b7-bdf5-dfd436f5f99e",
    "papermill": {
     "duration": 0.042875,
     "end_time": "2023-04-27T07:46:20.207897",
     "exception": false,
     "start_time": "2023-04-27T07:46:20.165022",
     "status": "completed"
    },
    "tags": []
   },
   "outputs": [
    {
     "data": {
      "text/html": [
       "<div>\n",
       "<style scoped>\n",
       "    .dataframe tbody tr th:only-of-type {\n",
       "        vertical-align: middle;\n",
       "    }\n",
       "\n",
       "    .dataframe tbody tr th {\n",
       "        vertical-align: top;\n",
       "    }\n",
       "\n",
       "    .dataframe thead th {\n",
       "        text-align: right;\n",
       "    }\n",
       "</style>\n",
       "<table border=\"1\" class=\"dataframe\">\n",
       "  <thead>\n",
       "    <tr style=\"text-align: right;\">\n",
       "      <th></th>\n",
       "      <th>label</th>\n",
       "      <th>text</th>\n",
       "    </tr>\n",
       "  </thead>\n",
       "  <tbody>\n",
       "    <tr>\n",
       "      <th>0</th>\n",
       "      <td>ham</td>\n",
       "      <td>Go until jurong point, crazy.. Available only ...</td>\n",
       "    </tr>\n",
       "    <tr>\n",
       "      <th>1</th>\n",
       "      <td>ham</td>\n",
       "      <td>Ok lar... Joking wif u oni...</td>\n",
       "    </tr>\n",
       "    <tr>\n",
       "      <th>2</th>\n",
       "      <td>spam</td>\n",
       "      <td>Free entry in 2 a wkly comp to win FA Cup fina...</td>\n",
       "    </tr>\n",
       "    <tr>\n",
       "      <th>3</th>\n",
       "      <td>ham</td>\n",
       "      <td>U dun say so early hor... U c already then say...</td>\n",
       "    </tr>\n",
       "    <tr>\n",
       "      <th>4</th>\n",
       "      <td>ham</td>\n",
       "      <td>Nah I don't think he goes to usf, he lives aro...</td>\n",
       "    </tr>\n",
       "  </tbody>\n",
       "</table>\n",
       "</div>"
      ],
      "text/plain": [
       "  label                                               text\n",
       "0   ham  Go until jurong point, crazy.. Available only ...\n",
       "1   ham                      Ok lar... Joking wif u oni...\n",
       "2  spam  Free entry in 2 a wkly comp to win FA Cup fina...\n",
       "3   ham  U dun say so early hor... U c already then say...\n",
       "4   ham  Nah I don't think he goes to usf, he lives aro..."
      ]
     },
     "execution_count": 3,
     "metadata": {},
     "output_type": "execute_result"
    }
   ],
   "source": [
    "data.head()"
   ]
  },
  {
   "cell_type": "code",
   "execution_count": 4,
   "id": "ac75c78f",
   "metadata": {
    "execution": {
     "iopub.execute_input": "2023-04-27T07:46:20.229555Z",
     "iopub.status.busy": "2023-04-27T07:46:20.228804Z",
     "iopub.status.idle": "2023-04-27T07:46:20.243274Z",
     "shell.execute_reply": "2023-04-27T07:46:20.241974Z"
    },
    "id": "6fff8983",
    "outputId": "5563d3d1-f89d-4404-a5d0-48c75527de7a",
    "papermill": {
     "duration": 0.028399,
     "end_time": "2023-04-27T07:46:20.245872",
     "exception": false,
     "start_time": "2023-04-27T07:46:20.217473",
     "status": "completed"
    },
    "tags": []
   },
   "outputs": [
    {
     "data": {
      "text/plain": [
       "ham     4825\n",
       "spam     747\n",
       "Name: label, dtype: int64"
      ]
     },
     "execution_count": 4,
     "metadata": {},
     "output_type": "execute_result"
    }
   ],
   "source": [
    "data.label.value_counts()"
   ]
  },
  {
   "cell_type": "code",
   "execution_count": 5,
   "id": "7e034895",
   "metadata": {
    "execution": {
     "iopub.execute_input": "2023-04-27T07:46:20.267688Z",
     "iopub.status.busy": "2023-04-27T07:46:20.266557Z",
     "iopub.status.idle": "2023-04-27T07:46:20.278822Z",
     "shell.execute_reply": "2023-04-27T07:46:20.277688Z"
    },
    "id": "8da0d763",
    "outputId": "09b583e1-b0f5-4283-92ec-fb242866f59d",
    "papermill": {
     "duration": 0.026221,
     "end_time": "2023-04-27T07:46:20.281668",
     "exception": false,
     "start_time": "2023-04-27T07:46:20.255447",
     "status": "completed"
    },
    "tags": []
   },
   "outputs": [
    {
     "data": {
      "text/plain": [
       "label    False\n",
       "text     False\n",
       "dtype: bool"
      ]
     },
     "execution_count": 5,
     "metadata": {},
     "output_type": "execute_result"
    }
   ],
   "source": [
    "data.isnull().any()"
   ]
  },
  {
   "cell_type": "markdown",
   "id": "c7097756",
   "metadata": {
    "id": "loiHJ4ho7kUa",
    "papermill": {
     "duration": 0.009314,
     "end_time": "2023-04-27T07:46:20.300867",
     "exception": false,
     "start_time": "2023-04-27T07:46:20.291553",
     "status": "completed"
    },
    "tags": []
   },
   "source": [
    "### Cleaning text column"
   ]
  },
  {
   "cell_type": "code",
   "execution_count": 6,
   "id": "51b44eda",
   "metadata": {
    "execution": {
     "iopub.execute_input": "2023-04-27T07:46:20.323894Z",
     "iopub.status.busy": "2023-04-27T07:46:20.323468Z",
     "iopub.status.idle": "2023-04-27T07:46:20.396926Z",
     "shell.execute_reply": "2023-04-27T07:46:20.395628Z"
    },
    "id": "6ca1d8cb",
    "papermill": {
     "duration": 0.08857,
     "end_time": "2023-04-27T07:46:20.400109",
     "exception": false,
     "start_time": "2023-04-27T07:46:20.311539",
     "status": "completed"
    },
    "tags": []
   },
   "outputs": [],
   "source": [
    "def remove_punc(text):\n",
    "    text=\"\".join([char for char in text if char not in string.punctuation])\n",
    "    return text\n",
    "data[\"clean_text\"]=data.text.apply(remove_punc)"
   ]
  },
  {
   "cell_type": "code",
   "execution_count": 7,
   "id": "9d3a131d",
   "metadata": {
    "execution": {
     "iopub.execute_input": "2023-04-27T07:46:20.422754Z",
     "iopub.status.busy": "2023-04-27T07:46:20.422285Z",
     "iopub.status.idle": "2023-04-27T07:46:20.434960Z",
     "shell.execute_reply": "2023-04-27T07:46:20.433542Z"
    },
    "id": "mFgF6cLa2_tK",
    "outputId": "d5cfc4db-7b82-4ad3-e099-9e08e24d6c10",
    "papermill": {
     "duration": 0.028128,
     "end_time": "2023-04-27T07:46:20.437916",
     "exception": false,
     "start_time": "2023-04-27T07:46:20.409788",
     "status": "completed"
    },
    "tags": []
   },
   "outputs": [
    {
     "data": {
      "text/html": [
       "<div>\n",
       "<style scoped>\n",
       "    .dataframe tbody tr th:only-of-type {\n",
       "        vertical-align: middle;\n",
       "    }\n",
       "\n",
       "    .dataframe tbody tr th {\n",
       "        vertical-align: top;\n",
       "    }\n",
       "\n",
       "    .dataframe thead th {\n",
       "        text-align: right;\n",
       "    }\n",
       "</style>\n",
       "<table border=\"1\" class=\"dataframe\">\n",
       "  <thead>\n",
       "    <tr style=\"text-align: right;\">\n",
       "      <th></th>\n",
       "      <th>label</th>\n",
       "      <th>text</th>\n",
       "      <th>clean_text</th>\n",
       "    </tr>\n",
       "  </thead>\n",
       "  <tbody>\n",
       "    <tr>\n",
       "      <th>0</th>\n",
       "      <td>ham</td>\n",
       "      <td>Go until jurong point, crazy.. Available only ...</td>\n",
       "      <td>Go until jurong point crazy Available only in ...</td>\n",
       "    </tr>\n",
       "    <tr>\n",
       "      <th>1</th>\n",
       "      <td>ham</td>\n",
       "      <td>Ok lar... Joking wif u oni...</td>\n",
       "      <td>Ok lar Joking wif u oni</td>\n",
       "    </tr>\n",
       "    <tr>\n",
       "      <th>2</th>\n",
       "      <td>spam</td>\n",
       "      <td>Free entry in 2 a wkly comp to win FA Cup fina...</td>\n",
       "      <td>Free entry in 2 a wkly comp to win FA Cup fina...</td>\n",
       "    </tr>\n",
       "    <tr>\n",
       "      <th>3</th>\n",
       "      <td>ham</td>\n",
       "      <td>U dun say so early hor... U c already then say...</td>\n",
       "      <td>U dun say so early hor U c already then say</td>\n",
       "    </tr>\n",
       "    <tr>\n",
       "      <th>4</th>\n",
       "      <td>ham</td>\n",
       "      <td>Nah I don't think he goes to usf, he lives aro...</td>\n",
       "      <td>Nah I dont think he goes to usf he lives aroun...</td>\n",
       "    </tr>\n",
       "  </tbody>\n",
       "</table>\n",
       "</div>"
      ],
      "text/plain": [
       "  label                                               text  \\\n",
       "0   ham  Go until jurong point, crazy.. Available only ...   \n",
       "1   ham                      Ok lar... Joking wif u oni...   \n",
       "2  spam  Free entry in 2 a wkly comp to win FA Cup fina...   \n",
       "3   ham  U dun say so early hor... U c already then say...   \n",
       "4   ham  Nah I don't think he goes to usf, he lives aro...   \n",
       "\n",
       "                                          clean_text  \n",
       "0  Go until jurong point crazy Available only in ...  \n",
       "1                            Ok lar Joking wif u oni  \n",
       "2  Free entry in 2 a wkly comp to win FA Cup fina...  \n",
       "3        U dun say so early hor U c already then say  \n",
       "4  Nah I dont think he goes to usf he lives aroun...  "
      ]
     },
     "execution_count": 7,
     "metadata": {},
     "output_type": "execute_result"
    }
   ],
   "source": [
    "data.head()"
   ]
  },
  {
   "cell_type": "code",
   "execution_count": 8,
   "id": "a3e03e62",
   "metadata": {
    "execution": {
     "iopub.execute_input": "2023-04-27T07:46:20.460304Z",
     "iopub.status.busy": "2023-04-27T07:46:20.459179Z",
     "iopub.status.idle": "2023-04-27T07:46:20.511692Z",
     "shell.execute_reply": "2023-04-27T07:46:20.510473Z"
    },
    "id": "97f1e3d1",
    "papermill": {
     "duration": 0.067101,
     "end_time": "2023-04-27T07:46:20.514985",
     "exception": false,
     "start_time": "2023-04-27T07:46:20.447884",
     "status": "completed"
    },
    "tags": []
   },
   "outputs": [],
   "source": [
    "def tokenize(text):\n",
    "    tokens=re.split(\"\\W+\",text.lower())\n",
    "    return tokens\n",
    "data.clean_text=data.clean_text.apply(tokenize)"
   ]
  },
  {
   "cell_type": "code",
   "execution_count": 9,
   "id": "84d32a6e",
   "metadata": {
    "execution": {
     "iopub.execute_input": "2023-04-27T07:46:20.537106Z",
     "iopub.status.busy": "2023-04-27T07:46:20.536662Z",
     "iopub.status.idle": "2023-04-27T07:46:20.551185Z",
     "shell.execute_reply": "2023-04-27T07:46:20.550005Z"
    },
    "id": "7AAd0UzV3Xay",
    "outputId": "b03aedff-404e-48b6-9faa-1b75887aaedb",
    "papermill": {
     "duration": 0.028865,
     "end_time": "2023-04-27T07:46:20.553997",
     "exception": false,
     "start_time": "2023-04-27T07:46:20.525132",
     "status": "completed"
    },
    "tags": []
   },
   "outputs": [
    {
     "data": {
      "text/html": [
       "<div>\n",
       "<style scoped>\n",
       "    .dataframe tbody tr th:only-of-type {\n",
       "        vertical-align: middle;\n",
       "    }\n",
       "\n",
       "    .dataframe tbody tr th {\n",
       "        vertical-align: top;\n",
       "    }\n",
       "\n",
       "    .dataframe thead th {\n",
       "        text-align: right;\n",
       "    }\n",
       "</style>\n",
       "<table border=\"1\" class=\"dataframe\">\n",
       "  <thead>\n",
       "    <tr style=\"text-align: right;\">\n",
       "      <th></th>\n",
       "      <th>label</th>\n",
       "      <th>text</th>\n",
       "      <th>clean_text</th>\n",
       "    </tr>\n",
       "  </thead>\n",
       "  <tbody>\n",
       "    <tr>\n",
       "      <th>0</th>\n",
       "      <td>ham</td>\n",
       "      <td>Go until jurong point, crazy.. Available only ...</td>\n",
       "      <td>[go, until, jurong, point, crazy, available, o...</td>\n",
       "    </tr>\n",
       "    <tr>\n",
       "      <th>1</th>\n",
       "      <td>ham</td>\n",
       "      <td>Ok lar... Joking wif u oni...</td>\n",
       "      <td>[ok, lar, joking, wif, u, oni]</td>\n",
       "    </tr>\n",
       "    <tr>\n",
       "      <th>2</th>\n",
       "      <td>spam</td>\n",
       "      <td>Free entry in 2 a wkly comp to win FA Cup fina...</td>\n",
       "      <td>[free, entry, in, 2, a, wkly, comp, to, win, f...</td>\n",
       "    </tr>\n",
       "    <tr>\n",
       "      <th>3</th>\n",
       "      <td>ham</td>\n",
       "      <td>U dun say so early hor... U c already then say...</td>\n",
       "      <td>[u, dun, say, so, early, hor, u, c, already, t...</td>\n",
       "    </tr>\n",
       "    <tr>\n",
       "      <th>4</th>\n",
       "      <td>ham</td>\n",
       "      <td>Nah I don't think he goes to usf, he lives aro...</td>\n",
       "      <td>[nah, i, dont, think, he, goes, to, usf, he, l...</td>\n",
       "    </tr>\n",
       "  </tbody>\n",
       "</table>\n",
       "</div>"
      ],
      "text/plain": [
       "  label                                               text  \\\n",
       "0   ham  Go until jurong point, crazy.. Available only ...   \n",
       "1   ham                      Ok lar... Joking wif u oni...   \n",
       "2  spam  Free entry in 2 a wkly comp to win FA Cup fina...   \n",
       "3   ham  U dun say so early hor... U c already then say...   \n",
       "4   ham  Nah I don't think he goes to usf, he lives aro...   \n",
       "\n",
       "                                          clean_text  \n",
       "0  [go, until, jurong, point, crazy, available, o...  \n",
       "1                     [ok, lar, joking, wif, u, oni]  \n",
       "2  [free, entry, in, 2, a, wkly, comp, to, win, f...  \n",
       "3  [u, dun, say, so, early, hor, u, c, already, t...  \n",
       "4  [nah, i, dont, think, he, goes, to, usf, he, l...  "
      ]
     },
     "execution_count": 9,
     "metadata": {},
     "output_type": "execute_result"
    }
   ],
   "source": [
    "data.head()"
   ]
  },
  {
   "cell_type": "code",
   "execution_count": 10,
   "id": "f03c93ed",
   "metadata": {
    "execution": {
     "iopub.execute_input": "2023-04-27T07:46:20.576820Z",
     "iopub.status.busy": "2023-04-27T07:46:20.576376Z",
     "iopub.status.idle": "2023-04-27T07:46:32.853693Z",
     "shell.execute_reply": "2023-04-27T07:46:32.852546Z"
    },
    "id": "2335342b",
    "papermill": {
     "duration": 12.292573,
     "end_time": "2023-04-27T07:46:32.856878",
     "exception": false,
     "start_time": "2023-04-27T07:46:20.564305",
     "status": "completed"
    },
    "tags": []
   },
   "outputs": [],
   "source": [
    "def remove_stopwords(text):\n",
    "    token=[word for word in text if word not in stopwords.words(\"english\")]\n",
    "    return token\n",
    "data.clean_text=data.clean_text.apply(remove_stopwords)"
   ]
  },
  {
   "cell_type": "code",
   "execution_count": 11,
   "id": "35b50c9c",
   "metadata": {
    "execution": {
     "iopub.execute_input": "2023-04-27T07:46:32.879574Z",
     "iopub.status.busy": "2023-04-27T07:46:32.879115Z",
     "iopub.status.idle": "2023-04-27T07:46:32.893136Z",
     "shell.execute_reply": "2023-04-27T07:46:32.891869Z"
    },
    "id": "zBnzA-ly3b2U",
    "outputId": "9e9066d9-6e0f-4777-f372-89d345eeb8e6",
    "papermill": {
     "duration": 0.028478,
     "end_time": "2023-04-27T07:46:32.895636",
     "exception": false,
     "start_time": "2023-04-27T07:46:32.867158",
     "status": "completed"
    },
    "tags": []
   },
   "outputs": [
    {
     "data": {
      "text/html": [
       "<div>\n",
       "<style scoped>\n",
       "    .dataframe tbody tr th:only-of-type {\n",
       "        vertical-align: middle;\n",
       "    }\n",
       "\n",
       "    .dataframe tbody tr th {\n",
       "        vertical-align: top;\n",
       "    }\n",
       "\n",
       "    .dataframe thead th {\n",
       "        text-align: right;\n",
       "    }\n",
       "</style>\n",
       "<table border=\"1\" class=\"dataframe\">\n",
       "  <thead>\n",
       "    <tr style=\"text-align: right;\">\n",
       "      <th></th>\n",
       "      <th>label</th>\n",
       "      <th>text</th>\n",
       "      <th>clean_text</th>\n",
       "    </tr>\n",
       "  </thead>\n",
       "  <tbody>\n",
       "    <tr>\n",
       "      <th>0</th>\n",
       "      <td>ham</td>\n",
       "      <td>Go until jurong point, crazy.. Available only ...</td>\n",
       "      <td>[go, jurong, point, crazy, available, bugis, n...</td>\n",
       "    </tr>\n",
       "    <tr>\n",
       "      <th>1</th>\n",
       "      <td>ham</td>\n",
       "      <td>Ok lar... Joking wif u oni...</td>\n",
       "      <td>[ok, lar, joking, wif, u, oni]</td>\n",
       "    </tr>\n",
       "    <tr>\n",
       "      <th>2</th>\n",
       "      <td>spam</td>\n",
       "      <td>Free entry in 2 a wkly comp to win FA Cup fina...</td>\n",
       "      <td>[free, entry, 2, wkly, comp, win, fa, cup, fin...</td>\n",
       "    </tr>\n",
       "    <tr>\n",
       "      <th>3</th>\n",
       "      <td>ham</td>\n",
       "      <td>U dun say so early hor... U c already then say...</td>\n",
       "      <td>[u, dun, say, early, hor, u, c, already, say]</td>\n",
       "    </tr>\n",
       "    <tr>\n",
       "      <th>4</th>\n",
       "      <td>ham</td>\n",
       "      <td>Nah I don't think he goes to usf, he lives aro...</td>\n",
       "      <td>[nah, dont, think, goes, usf, lives, around, t...</td>\n",
       "    </tr>\n",
       "  </tbody>\n",
       "</table>\n",
       "</div>"
      ],
      "text/plain": [
       "  label                                               text  \\\n",
       "0   ham  Go until jurong point, crazy.. Available only ...   \n",
       "1   ham                      Ok lar... Joking wif u oni...   \n",
       "2  spam  Free entry in 2 a wkly comp to win FA Cup fina...   \n",
       "3   ham  U dun say so early hor... U c already then say...   \n",
       "4   ham  Nah I don't think he goes to usf, he lives aro...   \n",
       "\n",
       "                                          clean_text  \n",
       "0  [go, jurong, point, crazy, available, bugis, n...  \n",
       "1                     [ok, lar, joking, wif, u, oni]  \n",
       "2  [free, entry, 2, wkly, comp, win, fa, cup, fin...  \n",
       "3      [u, dun, say, early, hor, u, c, already, say]  \n",
       "4  [nah, dont, think, goes, usf, lives, around, t...  "
      ]
     },
     "execution_count": 11,
     "metadata": {},
     "output_type": "execute_result"
    }
   ],
   "source": [
    "data.head()"
   ]
  },
  {
   "cell_type": "code",
   "execution_count": 12,
   "id": "2920dd0b",
   "metadata": {
    "execution": {
     "iopub.execute_input": "2023-04-27T07:46:32.919222Z",
     "iopub.status.busy": "2023-04-27T07:46:32.918087Z",
     "iopub.status.idle": "2023-04-27T07:46:34.304800Z",
     "shell.execute_reply": "2023-04-27T07:46:34.303160Z"
    },
    "papermill": {
     "duration": 1.40201,
     "end_time": "2023-04-27T07:46:34.308148",
     "exception": false,
     "start_time": "2023-04-27T07:46:32.906138",
     "status": "completed"
    },
    "tags": []
   },
   "outputs": [
    {
     "name": "stdout",
     "output_type": "stream",
     "text": [
      "Archive:  /usr/share/nltk_data/corpora/wordnet.zip\r\n",
      "   creating: /usr/share/nltk_data/corpora/wordnet/\r\n",
      "  inflating: /usr/share/nltk_data/corpora/wordnet/lexnames  \r\n",
      "  inflating: /usr/share/nltk_data/corpora/wordnet/data.verb  \r\n",
      "  inflating: /usr/share/nltk_data/corpora/wordnet/index.adv  \r\n",
      "  inflating: /usr/share/nltk_data/corpora/wordnet/adv.exc  \r\n",
      "  inflating: /usr/share/nltk_data/corpora/wordnet/index.verb  \r\n",
      "  inflating: /usr/share/nltk_data/corpora/wordnet/cntlist.rev  \r\n",
      "  inflating: /usr/share/nltk_data/corpora/wordnet/data.adj  \r\n",
      "  inflating: /usr/share/nltk_data/corpora/wordnet/index.adj  \r\n",
      "  inflating: /usr/share/nltk_data/corpora/wordnet/LICENSE  \r\n",
      "  inflating: /usr/share/nltk_data/corpora/wordnet/citation.bib  \r\n",
      "  inflating: /usr/share/nltk_data/corpora/wordnet/noun.exc  \r\n",
      "  inflating: /usr/share/nltk_data/corpora/wordnet/verb.exc  \r\n",
      "  inflating: /usr/share/nltk_data/corpora/wordnet/README  \r\n",
      "  inflating: /usr/share/nltk_data/corpora/wordnet/index.sense  \r\n",
      "  inflating: /usr/share/nltk_data/corpora/wordnet/data.noun  \r\n",
      "  inflating: /usr/share/nltk_data/corpora/wordnet/data.adv  \r\n",
      "  inflating: /usr/share/nltk_data/corpora/wordnet/index.noun  \r\n",
      "  inflating: /usr/share/nltk_data/corpora/wordnet/adj.exc  \r\n"
     ]
    }
   ],
   "source": [
    "# for kaggle unziping wordnet file\n",
    "!unzip /usr/share/nltk_data/corpora/wordnet.zip -d /usr/share/nltk_data/corpora/"
   ]
  },
  {
   "cell_type": "code",
   "execution_count": 13,
   "id": "4ddf72b8",
   "metadata": {
    "execution": {
     "iopub.execute_input": "2023-04-27T07:46:34.332397Z",
     "iopub.status.busy": "2023-04-27T07:46:34.331415Z",
     "iopub.status.idle": "2023-04-27T07:46:36.720453Z",
     "shell.execute_reply": "2023-04-27T07:46:36.719070Z"
    },
    "id": "b57ccc36",
    "papermill": {
     "duration": 2.40492,
     "end_time": "2023-04-27T07:46:36.723741",
     "exception": false,
     "start_time": "2023-04-27T07:46:34.318821",
     "status": "completed"
    },
    "tags": []
   },
   "outputs": [],
   "source": [
    "def lematizing(text):\n",
    "    token=[wn().lemmatize(word) for word in text]\n",
    "    token=\" \".join(token)\n",
    "    return token\n",
    "data.clean_text=data.clean_text.apply(lematizing)"
   ]
  },
  {
   "cell_type": "code",
   "execution_count": 14,
   "id": "1ddd9a61",
   "metadata": {
    "execution": {
     "iopub.execute_input": "2023-04-27T07:46:36.747500Z",
     "iopub.status.busy": "2023-04-27T07:46:36.747042Z",
     "iopub.status.idle": "2023-04-27T07:46:36.760503Z",
     "shell.execute_reply": "2023-04-27T07:46:36.759044Z"
    },
    "id": "xFyQMWUi2kso",
    "outputId": "6db6e378-7d11-4c8c-90ab-72066c412de9",
    "papermill": {
     "duration": 0.028211,
     "end_time": "2023-04-27T07:46:36.763208",
     "exception": false,
     "start_time": "2023-04-27T07:46:36.734997",
     "status": "completed"
    },
    "tags": []
   },
   "outputs": [
    {
     "data": {
      "text/html": [
       "<div>\n",
       "<style scoped>\n",
       "    .dataframe tbody tr th:only-of-type {\n",
       "        vertical-align: middle;\n",
       "    }\n",
       "\n",
       "    .dataframe tbody tr th {\n",
       "        vertical-align: top;\n",
       "    }\n",
       "\n",
       "    .dataframe thead th {\n",
       "        text-align: right;\n",
       "    }\n",
       "</style>\n",
       "<table border=\"1\" class=\"dataframe\">\n",
       "  <thead>\n",
       "    <tr style=\"text-align: right;\">\n",
       "      <th></th>\n",
       "      <th>label</th>\n",
       "      <th>text</th>\n",
       "      <th>clean_text</th>\n",
       "    </tr>\n",
       "  </thead>\n",
       "  <tbody>\n",
       "    <tr>\n",
       "      <th>0</th>\n",
       "      <td>ham</td>\n",
       "      <td>Go until jurong point, crazy.. Available only ...</td>\n",
       "      <td>go jurong point crazy available bugis n great ...</td>\n",
       "    </tr>\n",
       "    <tr>\n",
       "      <th>1</th>\n",
       "      <td>ham</td>\n",
       "      <td>Ok lar... Joking wif u oni...</td>\n",
       "      <td>ok lar joking wif u oni</td>\n",
       "    </tr>\n",
       "    <tr>\n",
       "      <th>2</th>\n",
       "      <td>spam</td>\n",
       "      <td>Free entry in 2 a wkly comp to win FA Cup fina...</td>\n",
       "      <td>free entry 2 wkly comp win fa cup final tkts 2...</td>\n",
       "    </tr>\n",
       "    <tr>\n",
       "      <th>3</th>\n",
       "      <td>ham</td>\n",
       "      <td>U dun say so early hor... U c already then say...</td>\n",
       "      <td>u dun say early hor u c already say</td>\n",
       "    </tr>\n",
       "    <tr>\n",
       "      <th>4</th>\n",
       "      <td>ham</td>\n",
       "      <td>Nah I don't think he goes to usf, he lives aro...</td>\n",
       "      <td>nah dont think go usf life around though</td>\n",
       "    </tr>\n",
       "  </tbody>\n",
       "</table>\n",
       "</div>"
      ],
      "text/plain": [
       "  label                                               text  \\\n",
       "0   ham  Go until jurong point, crazy.. Available only ...   \n",
       "1   ham                      Ok lar... Joking wif u oni...   \n",
       "2  spam  Free entry in 2 a wkly comp to win FA Cup fina...   \n",
       "3   ham  U dun say so early hor... U c already then say...   \n",
       "4   ham  Nah I don't think he goes to usf, he lives aro...   \n",
       "\n",
       "                                          clean_text  \n",
       "0  go jurong point crazy available bugis n great ...  \n",
       "1                            ok lar joking wif u oni  \n",
       "2  free entry 2 wkly comp win fa cup final tkts 2...  \n",
       "3                u dun say early hor u c already say  \n",
       "4           nah dont think go usf life around though  "
      ]
     },
     "execution_count": 14,
     "metadata": {},
     "output_type": "execute_result"
    }
   ],
   "source": [
    "data.head()"
   ]
  },
  {
   "cell_type": "markdown",
   "id": "27671c7f",
   "metadata": {
    "id": "YRqD4m8v7w4j",
    "papermill": {
     "duration": 0.010472,
     "end_time": "2023-04-27T07:46:36.785052",
     "exception": false,
     "start_time": "2023-04-27T07:46:36.774580",
     "status": "completed"
    },
    "tags": []
   },
   "source": [
    "### Vectorizing text column"
   ]
  },
  {
   "cell_type": "code",
   "execution_count": 15,
   "id": "d4de9b15",
   "metadata": {
    "execution": {
     "iopub.execute_input": "2023-04-27T07:46:36.810004Z",
     "iopub.status.busy": "2023-04-27T07:46:36.808725Z",
     "iopub.status.idle": "2023-04-27T07:46:37.135150Z",
     "shell.execute_reply": "2023-04-27T07:46:37.133871Z"
    },
    "id": "8c03c266",
    "outputId": "3f1815c6-9e11-4d51-a649-cb174431cecf",
    "papermill": {
     "duration": 0.341601,
     "end_time": "2023-04-27T07:46:37.137931",
     "exception": false,
     "start_time": "2023-04-27T07:46:36.796330",
     "status": "completed"
    },
    "tags": []
   },
   "outputs": [
    {
     "name": "stdout",
     "output_type": "stream",
     "text": [
      "(5572, 40790)\n"
     ]
    },
    {
     "data": {
      "text/plain": [
       "array(['008704050406', '008704050406 sp', '0089my', ..., 'ãœll take',\n",
       "       'œharry', 'œharry potter'], dtype=object)"
      ]
     },
     "execution_count": 15,
     "metadata": {},
     "output_type": "execute_result"
    }
   ],
   "source": [
    "\n",
    "cv1=TfidfVectorizer(ngram_range=(1,2))\n",
    "x_count=cv1.fit_transform(data.clean_text)\n",
    "print(x_count.shape)\n",
    "cv1.get_feature_names_out()"
   ]
  },
  {
   "cell_type": "code",
   "execution_count": 16,
   "id": "243695c5",
   "metadata": {
    "execution": {
     "iopub.execute_input": "2023-04-27T07:46:37.162644Z",
     "iopub.status.busy": "2023-04-27T07:46:37.161592Z",
     "iopub.status.idle": "2023-04-27T07:46:37.532239Z",
     "shell.execute_reply": "2023-04-27T07:46:37.530771Z"
    },
    "id": "3a3e2942",
    "outputId": "6b6c5672-3f34-4dd3-bc83-185039ee2e8a",
    "papermill": {
     "duration": 0.386313,
     "end_time": "2023-04-27T07:46:37.535439",
     "exception": false,
     "start_time": "2023-04-27T07:46:37.149126",
     "status": "completed"
    },
    "tags": []
   },
   "outputs": [
    {
     "data": {
      "text/html": [
       "<div>\n",
       "<style scoped>\n",
       "    .dataframe tbody tr th:only-of-type {\n",
       "        vertical-align: middle;\n",
       "    }\n",
       "\n",
       "    .dataframe tbody tr th {\n",
       "        vertical-align: top;\n",
       "    }\n",
       "\n",
       "    .dataframe thead th {\n",
       "        text-align: right;\n",
       "    }\n",
       "</style>\n",
       "<table border=\"1\" class=\"dataframe\">\n",
       "  <thead>\n",
       "    <tr style=\"text-align: right;\">\n",
       "      <th></th>\n",
       "      <th>008704050406</th>\n",
       "      <th>008704050406 sp</th>\n",
       "      <th>0089my</th>\n",
       "      <th>0089my last</th>\n",
       "      <th>0121</th>\n",
       "      <th>0121 2025050</th>\n",
       "      <th>01223585236</th>\n",
       "      <th>01223585236 xx</th>\n",
       "      <th>01223585334</th>\n",
       "      <th>01223585334 cum</th>\n",
       "      <th>...</th>\n",
       "      <th>ãœ thk</th>\n",
       "      <th>ãœ wait</th>\n",
       "      <th>ãœ wan</th>\n",
       "      <th>ãœ wana</th>\n",
       "      <th>ãœ want</th>\n",
       "      <th>ãœ write</th>\n",
       "      <th>ãœll</th>\n",
       "      <th>ãœll take</th>\n",
       "      <th>œharry</th>\n",
       "      <th>œharry potter</th>\n",
       "    </tr>\n",
       "  </thead>\n",
       "  <tbody>\n",
       "    <tr>\n",
       "      <th>0</th>\n",
       "      <td>0.0</td>\n",
       "      <td>0.0</td>\n",
       "      <td>0.0</td>\n",
       "      <td>0.0</td>\n",
       "      <td>0.0</td>\n",
       "      <td>0.0</td>\n",
       "      <td>0.0</td>\n",
       "      <td>0.0</td>\n",
       "      <td>0.0</td>\n",
       "      <td>0.0</td>\n",
       "      <td>...</td>\n",
       "      <td>0.0</td>\n",
       "      <td>0.0</td>\n",
       "      <td>0.0</td>\n",
       "      <td>0.0</td>\n",
       "      <td>0.0</td>\n",
       "      <td>0.0</td>\n",
       "      <td>0.0</td>\n",
       "      <td>0.0</td>\n",
       "      <td>0.0</td>\n",
       "      <td>0.0</td>\n",
       "    </tr>\n",
       "    <tr>\n",
       "      <th>1</th>\n",
       "      <td>0.0</td>\n",
       "      <td>0.0</td>\n",
       "      <td>0.0</td>\n",
       "      <td>0.0</td>\n",
       "      <td>0.0</td>\n",
       "      <td>0.0</td>\n",
       "      <td>0.0</td>\n",
       "      <td>0.0</td>\n",
       "      <td>0.0</td>\n",
       "      <td>0.0</td>\n",
       "      <td>...</td>\n",
       "      <td>0.0</td>\n",
       "      <td>0.0</td>\n",
       "      <td>0.0</td>\n",
       "      <td>0.0</td>\n",
       "      <td>0.0</td>\n",
       "      <td>0.0</td>\n",
       "      <td>0.0</td>\n",
       "      <td>0.0</td>\n",
       "      <td>0.0</td>\n",
       "      <td>0.0</td>\n",
       "    </tr>\n",
       "    <tr>\n",
       "      <th>2</th>\n",
       "      <td>0.0</td>\n",
       "      <td>0.0</td>\n",
       "      <td>0.0</td>\n",
       "      <td>0.0</td>\n",
       "      <td>0.0</td>\n",
       "      <td>0.0</td>\n",
       "      <td>0.0</td>\n",
       "      <td>0.0</td>\n",
       "      <td>0.0</td>\n",
       "      <td>0.0</td>\n",
       "      <td>...</td>\n",
       "      <td>0.0</td>\n",
       "      <td>0.0</td>\n",
       "      <td>0.0</td>\n",
       "      <td>0.0</td>\n",
       "      <td>0.0</td>\n",
       "      <td>0.0</td>\n",
       "      <td>0.0</td>\n",
       "      <td>0.0</td>\n",
       "      <td>0.0</td>\n",
       "      <td>0.0</td>\n",
       "    </tr>\n",
       "    <tr>\n",
       "      <th>3</th>\n",
       "      <td>0.0</td>\n",
       "      <td>0.0</td>\n",
       "      <td>0.0</td>\n",
       "      <td>0.0</td>\n",
       "      <td>0.0</td>\n",
       "      <td>0.0</td>\n",
       "      <td>0.0</td>\n",
       "      <td>0.0</td>\n",
       "      <td>0.0</td>\n",
       "      <td>0.0</td>\n",
       "      <td>...</td>\n",
       "      <td>0.0</td>\n",
       "      <td>0.0</td>\n",
       "      <td>0.0</td>\n",
       "      <td>0.0</td>\n",
       "      <td>0.0</td>\n",
       "      <td>0.0</td>\n",
       "      <td>0.0</td>\n",
       "      <td>0.0</td>\n",
       "      <td>0.0</td>\n",
       "      <td>0.0</td>\n",
       "    </tr>\n",
       "    <tr>\n",
       "      <th>4</th>\n",
       "      <td>0.0</td>\n",
       "      <td>0.0</td>\n",
       "      <td>0.0</td>\n",
       "      <td>0.0</td>\n",
       "      <td>0.0</td>\n",
       "      <td>0.0</td>\n",
       "      <td>0.0</td>\n",
       "      <td>0.0</td>\n",
       "      <td>0.0</td>\n",
       "      <td>0.0</td>\n",
       "      <td>...</td>\n",
       "      <td>0.0</td>\n",
       "      <td>0.0</td>\n",
       "      <td>0.0</td>\n",
       "      <td>0.0</td>\n",
       "      <td>0.0</td>\n",
       "      <td>0.0</td>\n",
       "      <td>0.0</td>\n",
       "      <td>0.0</td>\n",
       "      <td>0.0</td>\n",
       "      <td>0.0</td>\n",
       "    </tr>\n",
       "  </tbody>\n",
       "</table>\n",
       "<p>5 rows × 40790 columns</p>\n",
       "</div>"
      ],
      "text/plain": [
       "   008704050406  008704050406 sp  0089my  0089my last  0121  0121 2025050  \\\n",
       "0           0.0              0.0     0.0          0.0   0.0           0.0   \n",
       "1           0.0              0.0     0.0          0.0   0.0           0.0   \n",
       "2           0.0              0.0     0.0          0.0   0.0           0.0   \n",
       "3           0.0              0.0     0.0          0.0   0.0           0.0   \n",
       "4           0.0              0.0     0.0          0.0   0.0           0.0   \n",
       "\n",
       "   01223585236  01223585236 xx  01223585334  01223585334 cum  ...  ãœ thk  \\\n",
       "0          0.0             0.0          0.0              0.0  ...     0.0   \n",
       "1          0.0             0.0          0.0              0.0  ...     0.0   \n",
       "2          0.0             0.0          0.0              0.0  ...     0.0   \n",
       "3          0.0             0.0          0.0              0.0  ...     0.0   \n",
       "4          0.0             0.0          0.0              0.0  ...     0.0   \n",
       "\n",
       "   ãœ wait  ãœ wan  ãœ wana  ãœ want  ãœ write  ãœll  ãœll take  œharry  \\\n",
       "0      0.0     0.0      0.0      0.0       0.0   0.0        0.0     0.0   \n",
       "1      0.0     0.0      0.0      0.0       0.0   0.0        0.0     0.0   \n",
       "2      0.0     0.0      0.0      0.0       0.0   0.0        0.0     0.0   \n",
       "3      0.0     0.0      0.0      0.0       0.0   0.0        0.0     0.0   \n",
       "4      0.0     0.0      0.0      0.0       0.0   0.0        0.0     0.0   \n",
       "\n",
       "   œharry potter  \n",
       "0            0.0  \n",
       "1            0.0  \n",
       "2            0.0  \n",
       "3            0.0  \n",
       "4            0.0  \n",
       "\n",
       "[5 rows x 40790 columns]"
      ]
     },
     "execution_count": 16,
     "metadata": {},
     "output_type": "execute_result"
    }
   ],
   "source": [
    "df=pd.DataFrame(x_count.toarray())\n",
    "df.columns=cv1.get_feature_names_out()\n",
    "df.head()"
   ]
  },
  {
   "cell_type": "markdown",
   "id": "9b65a402",
   "metadata": {
    "id": "qIRqzMjI6dmq",
    "papermill": {
     "duration": 0.010923,
     "end_time": "2023-04-27T07:46:37.558467",
     "exception": false,
     "start_time": "2023-04-27T07:46:37.547544",
     "status": "completed"
    },
    "tags": []
   },
   "source": [
    "# Feature Engineering"
   ]
  },
  {
   "cell_type": "code",
   "execution_count": 17,
   "id": "331630c4",
   "metadata": {
    "execution": {
     "iopub.execute_input": "2023-04-27T07:46:37.583021Z",
     "iopub.status.busy": "2023-04-27T07:46:37.582537Z",
     "iopub.status.idle": "2023-04-27T07:46:37.606207Z",
     "shell.execute_reply": "2023-04-27T07:46:37.604784Z"
    },
    "id": "_nnOL_ai0CMW",
    "outputId": "7d1e6d7b-b9e3-48a3-af3d-b3b1ae6fb7f5",
    "papermill": {
     "duration": 0.03947,
     "end_time": "2023-04-27T07:46:37.609290",
     "exception": false,
     "start_time": "2023-04-27T07:46:37.569820",
     "status": "completed"
    },
    "tags": []
   },
   "outputs": [
    {
     "data": {
      "text/html": [
       "<div>\n",
       "<style scoped>\n",
       "    .dataframe tbody tr th:only-of-type {\n",
       "        vertical-align: middle;\n",
       "    }\n",
       "\n",
       "    .dataframe tbody tr th {\n",
       "        vertical-align: top;\n",
       "    }\n",
       "\n",
       "    .dataframe thead th {\n",
       "        text-align: right;\n",
       "    }\n",
       "</style>\n",
       "<table border=\"1\" class=\"dataframe\">\n",
       "  <thead>\n",
       "    <tr style=\"text-align: right;\">\n",
       "      <th></th>\n",
       "      <th>label</th>\n",
       "      <th>text</th>\n",
       "      <th>clean_text</th>\n",
       "      <th>length</th>\n",
       "    </tr>\n",
       "  </thead>\n",
       "  <tbody>\n",
       "    <tr>\n",
       "      <th>0</th>\n",
       "      <td>ham</td>\n",
       "      <td>Go until jurong point, crazy.. Available only ...</td>\n",
       "      <td>go jurong point crazy available bugis n great ...</td>\n",
       "      <td>92</td>\n",
       "    </tr>\n",
       "    <tr>\n",
       "      <th>1</th>\n",
       "      <td>ham</td>\n",
       "      <td>Ok lar... Joking wif u oni...</td>\n",
       "      <td>ok lar joking wif u oni</td>\n",
       "      <td>24</td>\n",
       "    </tr>\n",
       "    <tr>\n",
       "      <th>2</th>\n",
       "      <td>spam</td>\n",
       "      <td>Free entry in 2 a wkly comp to win FA Cup fina...</td>\n",
       "      <td>free entry 2 wkly comp win fa cup final tkts 2...</td>\n",
       "      <td>128</td>\n",
       "    </tr>\n",
       "    <tr>\n",
       "      <th>3</th>\n",
       "      <td>ham</td>\n",
       "      <td>U dun say so early hor... U c already then say...</td>\n",
       "      <td>u dun say early hor u c already say</td>\n",
       "      <td>39</td>\n",
       "    </tr>\n",
       "    <tr>\n",
       "      <th>4</th>\n",
       "      <td>ham</td>\n",
       "      <td>Nah I don't think he goes to usf, he lives aro...</td>\n",
       "      <td>nah dont think go usf life around though</td>\n",
       "      <td>49</td>\n",
       "    </tr>\n",
       "  </tbody>\n",
       "</table>\n",
       "</div>"
      ],
      "text/plain": [
       "  label                                               text  \\\n",
       "0   ham  Go until jurong point, crazy.. Available only ...   \n",
       "1   ham                      Ok lar... Joking wif u oni...   \n",
       "2  spam  Free entry in 2 a wkly comp to win FA Cup fina...   \n",
       "3   ham  U dun say so early hor... U c already then say...   \n",
       "4   ham  Nah I don't think he goes to usf, he lives aro...   \n",
       "\n",
       "                                          clean_text  length  \n",
       "0  go jurong point crazy available bugis n great ...      92  \n",
       "1                            ok lar joking wif u oni      24  \n",
       "2  free entry 2 wkly comp win fa cup final tkts 2...     128  \n",
       "3                u dun say early hor u c already say      39  \n",
       "4           nah dont think go usf life around though      49  "
      ]
     },
     "execution_count": 17,
     "metadata": {},
     "output_type": "execute_result"
    }
   ],
   "source": [
    "data[\"length\"]=data.text.apply(lambda x:len(x)-x.count(\" \"))\n",
    "data.head()"
   ]
  },
  {
   "cell_type": "code",
   "execution_count": 18,
   "id": "78ed8004",
   "metadata": {
    "execution": {
     "iopub.execute_input": "2023-04-27T07:46:37.635430Z",
     "iopub.status.busy": "2023-04-27T07:46:37.634649Z",
     "iopub.status.idle": "2023-04-27T07:46:37.826615Z",
     "shell.execute_reply": "2023-04-27T07:46:37.825314Z"
    },
    "id": "zHfeAnMA9te6",
    "papermill": {
     "duration": 0.208572,
     "end_time": "2023-04-27T07:46:37.829913",
     "exception": false,
     "start_time": "2023-04-27T07:46:37.621341",
     "status": "completed"
    },
    "tags": []
   },
   "outputs": [],
   "source": [
    "def punctuations(data):\n",
    "  count=0\n",
    "  for char in data.text:\n",
    "    if char in string.punctuation:\n",
    "      count+=1\n",
    "  return count/data.length*100\n",
    "data[\"punc_percent\"]=data.apply(punctuations,axis=1)"
   ]
  },
  {
   "cell_type": "code",
   "execution_count": 19,
   "id": "f01116d4",
   "metadata": {
    "execution": {
     "iopub.execute_input": "2023-04-27T07:46:37.855704Z",
     "iopub.status.busy": "2023-04-27T07:46:37.855265Z",
     "iopub.status.idle": "2023-04-27T07:46:37.869286Z",
     "shell.execute_reply": "2023-04-27T07:46:37.867869Z"
    },
    "id": "ALF7-ply_ocK",
    "outputId": "5e1d0263-4f82-4809-c3b0-5233213cbf20",
    "papermill": {
     "duration": 0.029937,
     "end_time": "2023-04-27T07:46:37.872011",
     "exception": false,
     "start_time": "2023-04-27T07:46:37.842074",
     "status": "completed"
    },
    "tags": []
   },
   "outputs": [
    {
     "data": {
      "text/html": [
       "<div>\n",
       "<style scoped>\n",
       "    .dataframe tbody tr th:only-of-type {\n",
       "        vertical-align: middle;\n",
       "    }\n",
       "\n",
       "    .dataframe tbody tr th {\n",
       "        vertical-align: top;\n",
       "    }\n",
       "\n",
       "    .dataframe thead th {\n",
       "        text-align: right;\n",
       "    }\n",
       "</style>\n",
       "<table border=\"1\" class=\"dataframe\">\n",
       "  <thead>\n",
       "    <tr style=\"text-align: right;\">\n",
       "      <th></th>\n",
       "      <th>label</th>\n",
       "      <th>text</th>\n",
       "      <th>clean_text</th>\n",
       "      <th>length</th>\n",
       "      <th>punc_percent</th>\n",
       "    </tr>\n",
       "  </thead>\n",
       "  <tbody>\n",
       "    <tr>\n",
       "      <th>0</th>\n",
       "      <td>ham</td>\n",
       "      <td>Go until jurong point, crazy.. Available only ...</td>\n",
       "      <td>go jurong point crazy available bugis n great ...</td>\n",
       "      <td>92</td>\n",
       "      <td>9.782609</td>\n",
       "    </tr>\n",
       "    <tr>\n",
       "      <th>1</th>\n",
       "      <td>ham</td>\n",
       "      <td>Ok lar... Joking wif u oni...</td>\n",
       "      <td>ok lar joking wif u oni</td>\n",
       "      <td>24</td>\n",
       "      <td>25.000000</td>\n",
       "    </tr>\n",
       "    <tr>\n",
       "      <th>2</th>\n",
       "      <td>spam</td>\n",
       "      <td>Free entry in 2 a wkly comp to win FA Cup fina...</td>\n",
       "      <td>free entry 2 wkly comp win fa cup final tkts 2...</td>\n",
       "      <td>128</td>\n",
       "      <td>4.687500</td>\n",
       "    </tr>\n",
       "    <tr>\n",
       "      <th>3</th>\n",
       "      <td>ham</td>\n",
       "      <td>U dun say so early hor... U c already then say...</td>\n",
       "      <td>u dun say early hor u c already say</td>\n",
       "      <td>39</td>\n",
       "      <td>15.384615</td>\n",
       "    </tr>\n",
       "    <tr>\n",
       "      <th>4</th>\n",
       "      <td>ham</td>\n",
       "      <td>Nah I don't think he goes to usf, he lives aro...</td>\n",
       "      <td>nah dont think go usf life around though</td>\n",
       "      <td>49</td>\n",
       "      <td>4.081633</td>\n",
       "    </tr>\n",
       "  </tbody>\n",
       "</table>\n",
       "</div>"
      ],
      "text/plain": [
       "  label                                               text  \\\n",
       "0   ham  Go until jurong point, crazy.. Available only ...   \n",
       "1   ham                      Ok lar... Joking wif u oni...   \n",
       "2  spam  Free entry in 2 a wkly comp to win FA Cup fina...   \n",
       "3   ham  U dun say so early hor... U c already then say...   \n",
       "4   ham  Nah I don't think he goes to usf, he lives aro...   \n",
       "\n",
       "                                          clean_text  length  punc_percent  \n",
       "0  go jurong point crazy available bugis n great ...      92      9.782609  \n",
       "1                            ok lar joking wif u oni      24     25.000000  \n",
       "2  free entry 2 wkly comp win fa cup final tkts 2...     128      4.687500  \n",
       "3                u dun say early hor u c already say      39     15.384615  \n",
       "4           nah dont think go usf life around though      49      4.081633  "
      ]
     },
     "execution_count": 19,
     "metadata": {},
     "output_type": "execute_result"
    }
   ],
   "source": [
    "data.head()"
   ]
  },
  {
   "cell_type": "markdown",
   "id": "e1e2cc4c",
   "metadata": {
    "id": "PYWTPkieJTbj",
    "papermill": {
     "duration": 0.011663,
     "end_time": "2023-04-27T07:46:37.895694",
     "exception": false,
     "start_time": "2023-04-27T07:46:37.884031",
     "status": "completed"
    },
    "tags": []
   },
   "source": [
    "# EDA"
   ]
  },
  {
   "cell_type": "code",
   "execution_count": 20,
   "id": "f6f6945f",
   "metadata": {
    "execution": {
     "iopub.execute_input": "2023-04-27T07:46:37.921319Z",
     "iopub.status.busy": "2023-04-27T07:46:37.920839Z",
     "iopub.status.idle": "2023-04-27T07:46:38.368149Z",
     "shell.execute_reply": "2023-04-27T07:46:38.366883Z"
    },
    "id": "LhLr5XVs9T3a",
    "outputId": "68b195c3-21f6-4ced-d10a-83693d91d7c7",
    "papermill": {
     "duration": 0.463432,
     "end_time": "2023-04-27T07:46:38.371011",
     "exception": false,
     "start_time": "2023-04-27T07:46:37.907579",
     "status": "completed"
    },
    "tags": []
   },
   "outputs": [
    {
     "data": {
      "image/png": "[encoded data removed]",
      "text/plain": [
       "<Figure size 640x480 with 1 Axes>"
      ]
     },
     "metadata": {},
     "output_type": "display_data"
    }
   ],
   "source": [
    "bins=np.linspace(0,200,50)\n",
    "plt.hist(data[data.label==\"spam\"]['length'],bins,alpha=.5,density=True,label=\"spam\")\n",
    "plt.hist(data[data.label==\"ham\"]['length'],bins,alpha=.5,density=True,label=\"ham\")\n",
    "plt.legend()\n",
    "plt.show()"
   ]
  },
  {
   "cell_type": "code",
   "execution_count": 21,
   "id": "72570693",
   "metadata": {
    "execution": {
     "iopub.execute_input": "2023-04-27T07:46:38.398366Z",
     "iopub.status.busy": "2023-04-27T07:46:38.397851Z",
     "iopub.status.idle": "2023-04-27T07:46:38.790428Z",
     "shell.execute_reply": "2023-04-27T07:46:38.789047Z"
    },
    "papermill": {
     "duration": 0.41015,
     "end_time": "2023-04-27T07:46:38.793618",
     "exception": false,
     "start_time": "2023-04-27T07:46:38.383468",
     "status": "completed"
    },
    "tags": []
   },
   "outputs": [
    {
     "data": {
      "image/png": "[encoded data removed]",
      "text/plain": [
       "<Figure size 640x480 with 1 Axes>"
      ]
     },
     "metadata": {},
     "output_type": "display_data"
    }
   ],
   "source": [
    "bins=np.linspace(0,20,40)\n",
    "plt.hist(data[data.label==\"spam\"]['punc_percent'],bins,alpha=.5,density=True,label=\"spam\")\n",
    "plt.hist(data[data.label==\"ham\"]['punc_percent'],bins,alpha=.5,density=True,label=\"ham\")\n",
    "plt.legend()\n",
    "plt.show()"
   ]
  },
  {
   "cell_type": "markdown",
   "id": "2cf56f83",
   "metadata": {
    "papermill": {
     "duration": 0.012354,
     "end_time": "2023-04-27T07:46:38.819918",
     "exception": false,
     "start_time": "2023-04-27T07:46:38.807564",
     "status": "completed"
    },
    "tags": []
   },
   "source": [
    "### Box Cox transformation"
   ]
  },
  {
   "cell_type": "code",
   "execution_count": 22,
   "id": "6ad03ffd",
   "metadata": {
    "execution": {
     "iopub.execute_input": "2023-04-27T07:46:38.847541Z",
     "iopub.status.busy": "2023-04-27T07:46:38.847087Z",
     "iopub.status.idle": "2023-04-27T07:46:40.782001Z",
     "shell.execute_reply": "2023-04-27T07:46:40.781012Z"
    },
    "papermill": {
     "duration": 1.951871,
     "end_time": "2023-04-27T07:46:40.784538",
     "exception": false,
     "start_time": "2023-04-27T07:46:38.832667",
     "status": "completed"
    },
    "tags": []
   },
   "outputs": [
    {
     "data": {
      "image/png": "[encoded data removed]",
      "text/plain": [
       "<Figure size 640x480 with 1 Axes>"
      ]
     },
     "metadata": {},
     "output_type": "display_data"
    },
    {
     "data": {
      "image/png": "[encoded data removed]",
      "text/plain": [
       "<Figure size 640x480 with 1 Axes>"
      ]
     },
     "metadata": {},
     "output_type": "display_data"
    },
    {
     "data": {
      "image/png": "[encoded data removed]",
      "text/plain": [
       "<Figure size 640x480 with 1 Axes>"
      ]
     },
     "metadata": {},
     "output_type": "display_data"
    },
    {
     "data": {
      "image/png": "[encoded data removed]",
      "text/plain": [
       "<Figure size 640x480 with 1 Axes>"
      ]
     },
     "metadata": {},
     "output_type": "display_data"
    },
    {
     "data": {
      "image/png": "[encoded data removed]",
      "text/plain": [
       "<Figure size 640x480 with 1 Axes>"
      ]
     },
     "metadata": {},
     "output_type": "display_data"
    },
    {
     "data": {
      "image/png": "[encoded data removed]",
      "text/plain": [
       "<Figure size 640x480 with 1 Axes>"
      ]
     },
     "metadata": {},
     "output_type": "display_data"
    },
    {
     "data": {
      "image/png": "[encoded data removed]",
      "text/plain": [
       "<Figure size 640x480 with 1 Axes>"
      ]
     },
     "metadata": {},
     "output_type": "display_data"
    }
   ],
   "source": [
    "for i in [1/2,1,2,3,4,5,6]:\n",
    "    plt.hist((data[\"punc_percent\"])**(1/i),bins=40)\n",
    "    plt.show()"
   ]
  },
  {
   "cell_type": "code",
   "execution_count": 23,
   "id": "7a7fd723",
   "metadata": {
    "execution": {
     "iopub.execute_input": "2023-04-27T07:46:40.817034Z",
     "iopub.status.busy": "2023-04-27T07:46:40.815661Z",
     "iopub.status.idle": "2023-04-27T07:46:40.822309Z",
     "shell.execute_reply": "2023-04-27T07:46:40.821063Z"
    },
    "papermill": {
     "duration": 0.02585,
     "end_time": "2023-04-27T07:46:40.825253",
     "exception": false,
     "start_time": "2023-04-27T07:46:40.799403",
     "status": "completed"
    },
    "tags": []
   },
   "outputs": [],
   "source": [
    "data.punc_percent=(data[\"punc_percent\"])**(1/3)"
   ]
  },
  {
   "cell_type": "markdown",
   "id": "c45554fe",
   "metadata": {
    "papermill": {
     "duration": 0.014113,
     "end_time": "2023-04-27T07:46:40.854169",
     "exception": false,
     "start_time": "2023-04-27T07:46:40.840056",
     "status": "completed"
    },
    "tags": []
   },
   "source": [
    "# Model training"
   ]
  },
  {
   "cell_type": "code",
   "execution_count": 24,
   "id": "5e5e61f6",
   "metadata": {
    "execution": {
     "iopub.execute_input": "2023-04-27T07:46:40.885849Z",
     "iopub.status.busy": "2023-04-27T07:46:40.885374Z",
     "iopub.status.idle": "2023-04-27T07:46:45.174550Z",
     "shell.execute_reply": "2023-04-27T07:46:45.173314Z"
    },
    "papermill": {
     "duration": 4.308197,
     "end_time": "2023-04-27T07:46:45.177037",
     "exception": false,
     "start_time": "2023-04-27T07:46:40.868840",
     "status": "completed"
    },
    "tags": []
   },
   "outputs": [
    {
     "data": {
      "text/html": [
       "<div>\n",
       "<style scoped>\n",
       "    .dataframe tbody tr th:only-of-type {\n",
       "        vertical-align: middle;\n",
       "    }\n",
       "\n",
       "    .dataframe tbody tr th {\n",
       "        vertical-align: top;\n",
       "    }\n",
       "\n",
       "    .dataframe thead th {\n",
       "        text-align: right;\n",
       "    }\n",
       "</style>\n",
       "<table border=\"1\" class=\"dataframe\">\n",
       "  <thead>\n",
       "    <tr style=\"text-align: right;\">\n",
       "      <th></th>\n",
       "      <th>length</th>\n",
       "      <th>punc_percent</th>\n",
       "      <th>008704050406</th>\n",
       "      <th>008704050406 sp</th>\n",
       "      <th>0089my</th>\n",
       "      <th>0089my last</th>\n",
       "      <th>0121</th>\n",
       "      <th>0121 2025050</th>\n",
       "      <th>01223585236</th>\n",
       "      <th>01223585236 xx</th>\n",
       "      <th>...</th>\n",
       "      <th>ãœ thk</th>\n",
       "      <th>ãœ wait</th>\n",
       "      <th>ãœ wan</th>\n",
       "      <th>ãœ wana</th>\n",
       "      <th>ãœ want</th>\n",
       "      <th>ãœ write</th>\n",
       "      <th>ãœll</th>\n",
       "      <th>ãœll take</th>\n",
       "      <th>œharry</th>\n",
       "      <th>œharry potter</th>\n",
       "    </tr>\n",
       "  </thead>\n",
       "  <tbody>\n",
       "    <tr>\n",
       "      <th>0</th>\n",
       "      <td>92</td>\n",
       "      <td>2.138708</td>\n",
       "      <td>0.0</td>\n",
       "      <td>0.0</td>\n",
       "      <td>0.0</td>\n",
       "      <td>0.0</td>\n",
       "      <td>0.0</td>\n",
       "      <td>0.0</td>\n",
       "      <td>0.0</td>\n",
       "      <td>0.0</td>\n",
       "      <td>...</td>\n",
       "      <td>0.0</td>\n",
       "      <td>0.0</td>\n",
       "      <td>0.0</td>\n",
       "      <td>0.0</td>\n",
       "      <td>0.0</td>\n",
       "      <td>0.0</td>\n",
       "      <td>0.0</td>\n",
       "      <td>0.0</td>\n",
       "      <td>0.0</td>\n",
       "      <td>0.0</td>\n",
       "    </tr>\n",
       "    <tr>\n",
       "      <th>1</th>\n",
       "      <td>24</td>\n",
       "      <td>2.924018</td>\n",
       "      <td>0.0</td>\n",
       "      <td>0.0</td>\n",
       "      <td>0.0</td>\n",
       "      <td>0.0</td>\n",
       "      <td>0.0</td>\n",
       "      <td>0.0</td>\n",
       "      <td>0.0</td>\n",
       "      <td>0.0</td>\n",
       "      <td>...</td>\n",
       "      <td>0.0</td>\n",
       "      <td>0.0</td>\n",
       "      <td>0.0</td>\n",
       "      <td>0.0</td>\n",
       "      <td>0.0</td>\n",
       "      <td>0.0</td>\n",
       "      <td>0.0</td>\n",
       "      <td>0.0</td>\n",
       "      <td>0.0</td>\n",
       "      <td>0.0</td>\n",
       "    </tr>\n",
       "    <tr>\n",
       "      <th>2</th>\n",
       "      <td>128</td>\n",
       "      <td>1.673582</td>\n",
       "      <td>0.0</td>\n",
       "      <td>0.0</td>\n",
       "      <td>0.0</td>\n",
       "      <td>0.0</td>\n",
       "      <td>0.0</td>\n",
       "      <td>0.0</td>\n",
       "      <td>0.0</td>\n",
       "      <td>0.0</td>\n",
       "      <td>...</td>\n",
       "      <td>0.0</td>\n",
       "      <td>0.0</td>\n",
       "      <td>0.0</td>\n",
       "      <td>0.0</td>\n",
       "      <td>0.0</td>\n",
       "      <td>0.0</td>\n",
       "      <td>0.0</td>\n",
       "      <td>0.0</td>\n",
       "      <td>0.0</td>\n",
       "      <td>0.0</td>\n",
       "    </tr>\n",
       "    <tr>\n",
       "      <th>3</th>\n",
       "      <td>39</td>\n",
       "      <td>2.487113</td>\n",
       "      <td>0.0</td>\n",
       "      <td>0.0</td>\n",
       "      <td>0.0</td>\n",
       "      <td>0.0</td>\n",
       "      <td>0.0</td>\n",
       "      <td>0.0</td>\n",
       "      <td>0.0</td>\n",
       "      <td>0.0</td>\n",
       "      <td>...</td>\n",
       "      <td>0.0</td>\n",
       "      <td>0.0</td>\n",
       "      <td>0.0</td>\n",
       "      <td>0.0</td>\n",
       "      <td>0.0</td>\n",
       "      <td>0.0</td>\n",
       "      <td>0.0</td>\n",
       "      <td>0.0</td>\n",
       "      <td>0.0</td>\n",
       "      <td>0.0</td>\n",
       "    </tr>\n",
       "    <tr>\n",
       "      <th>4</th>\n",
       "      <td>49</td>\n",
       "      <td>1.598127</td>\n",
       "      <td>0.0</td>\n",
       "      <td>0.0</td>\n",
       "      <td>0.0</td>\n",
       "      <td>0.0</td>\n",
       "      <td>0.0</td>\n",
       "      <td>0.0</td>\n",
       "      <td>0.0</td>\n",
       "      <td>0.0</td>\n",
       "      <td>...</td>\n",
       "      <td>0.0</td>\n",
       "      <td>0.0</td>\n",
       "      <td>0.0</td>\n",
       "      <td>0.0</td>\n",
       "      <td>0.0</td>\n",
       "      <td>0.0</td>\n",
       "      <td>0.0</td>\n",
       "      <td>0.0</td>\n",
       "      <td>0.0</td>\n",
       "      <td>0.0</td>\n",
       "    </tr>\n",
       "    <tr>\n",
       "      <th>...</th>\n",
       "      <td>...</td>\n",
       "      <td>...</td>\n",
       "      <td>...</td>\n",
       "      <td>...</td>\n",
       "      <td>...</td>\n",
       "      <td>...</td>\n",
       "      <td>...</td>\n",
       "      <td>...</td>\n",
       "      <td>...</td>\n",
       "      <td>...</td>\n",
       "      <td>...</td>\n",
       "      <td>...</td>\n",
       "      <td>...</td>\n",
       "      <td>...</td>\n",
       "      <td>...</td>\n",
       "      <td>...</td>\n",
       "      <td>...</td>\n",
       "      <td>...</td>\n",
       "      <td>...</td>\n",
       "      <td>...</td>\n",
       "      <td>...</td>\n",
       "    </tr>\n",
       "    <tr>\n",
       "      <th>5567</th>\n",
       "      <td>132</td>\n",
       "      <td>1.823218</td>\n",
       "      <td>0.0</td>\n",
       "      <td>0.0</td>\n",
       "      <td>0.0</td>\n",
       "      <td>0.0</td>\n",
       "      <td>0.0</td>\n",
       "      <td>0.0</td>\n",
       "      <td>0.0</td>\n",
       "      <td>0.0</td>\n",
       "      <td>...</td>\n",
       "      <td>0.0</td>\n",
       "      <td>0.0</td>\n",
       "      <td>0.0</td>\n",
       "      <td>0.0</td>\n",
       "      <td>0.0</td>\n",
       "      <td>0.0</td>\n",
       "      <td>0.0</td>\n",
       "      <td>0.0</td>\n",
       "      <td>0.0</td>\n",
       "      <td>0.0</td>\n",
       "    </tr>\n",
       "    <tr>\n",
       "      <th>5568</th>\n",
       "      <td>30</td>\n",
       "      <td>1.493802</td>\n",
       "      <td>0.0</td>\n",
       "      <td>0.0</td>\n",
       "      <td>0.0</td>\n",
       "      <td>0.0</td>\n",
       "      <td>0.0</td>\n",
       "      <td>0.0</td>\n",
       "      <td>0.0</td>\n",
       "      <td>0.0</td>\n",
       "      <td>...</td>\n",
       "      <td>0.0</td>\n",
       "      <td>0.0</td>\n",
       "      <td>0.0</td>\n",
       "      <td>0.0</td>\n",
       "      <td>0.0</td>\n",
       "      <td>0.0</td>\n",
       "      <td>0.0</td>\n",
       "      <td>0.0</td>\n",
       "      <td>0.0</td>\n",
       "      <td>0.0</td>\n",
       "    </tr>\n",
       "    <tr>\n",
       "      <th>5569</th>\n",
       "      <td>48</td>\n",
       "      <td>2.443162</td>\n",
       "      <td>0.0</td>\n",
       "      <td>0.0</td>\n",
       "      <td>0.0</td>\n",
       "      <td>0.0</td>\n",
       "      <td>0.0</td>\n",
       "      <td>0.0</td>\n",
       "      <td>0.0</td>\n",
       "      <td>0.0</td>\n",
       "      <td>...</td>\n",
       "      <td>0.0</td>\n",
       "      <td>0.0</td>\n",
       "      <td>0.0</td>\n",
       "      <td>0.0</td>\n",
       "      <td>0.0</td>\n",
       "      <td>0.0</td>\n",
       "      <td>0.0</td>\n",
       "      <td>0.0</td>\n",
       "      <td>0.0</td>\n",
       "      <td>0.0</td>\n",
       "    </tr>\n",
       "    <tr>\n",
       "      <th>5570</th>\n",
       "      <td>100</td>\n",
       "      <td>1.000000</td>\n",
       "      <td>0.0</td>\n",
       "      <td>0.0</td>\n",
       "      <td>0.0</td>\n",
       "      <td>0.0</td>\n",
       "      <td>0.0</td>\n",
       "      <td>0.0</td>\n",
       "      <td>0.0</td>\n",
       "      <td>0.0</td>\n",
       "      <td>...</td>\n",
       "      <td>0.0</td>\n",
       "      <td>0.0</td>\n",
       "      <td>0.0</td>\n",
       "      <td>0.0</td>\n",
       "      <td>0.0</td>\n",
       "      <td>0.0</td>\n",
       "      <td>0.0</td>\n",
       "      <td>0.0</td>\n",
       "      <td>0.0</td>\n",
       "      <td>0.0</td>\n",
       "    </tr>\n",
       "    <tr>\n",
       "      <th>5571</th>\n",
       "      <td>21</td>\n",
       "      <td>1.682391</td>\n",
       "      <td>0.0</td>\n",
       "      <td>0.0</td>\n",
       "      <td>0.0</td>\n",
       "      <td>0.0</td>\n",
       "      <td>0.0</td>\n",
       "      <td>0.0</td>\n",
       "      <td>0.0</td>\n",
       "      <td>0.0</td>\n",
       "      <td>...</td>\n",
       "      <td>0.0</td>\n",
       "      <td>0.0</td>\n",
       "      <td>0.0</td>\n",
       "      <td>0.0</td>\n",
       "      <td>0.0</td>\n",
       "      <td>0.0</td>\n",
       "      <td>0.0</td>\n",
       "      <td>0.0</td>\n",
       "      <td>0.0</td>\n",
       "      <td>0.0</td>\n",
       "    </tr>\n",
       "  </tbody>\n",
       "</table>\n",
       "<p>5572 rows × 40792 columns</p>\n",
       "</div>"
      ],
      "text/plain": [
       "      length  punc_percent  008704050406  008704050406 sp  0089my  \\\n",
       "0         92      2.138708           0.0              0.0     0.0   \n",
       "1         24      2.924018           0.0              0.0     0.0   \n",
       "2        128      1.673582           0.0              0.0     0.0   \n",
       "3         39      2.487113           0.0              0.0     0.0   \n",
       "4         49      1.598127           0.0              0.0     0.0   \n",
       "...      ...           ...           ...              ...     ...   \n",
       "5567     132      1.823218           0.0              0.0     0.0   \n",
       "5568      30      1.493802           0.0              0.0     0.0   \n",
       "5569      48      2.443162           0.0              0.0     0.0   \n",
       "5570     100      1.000000           0.0              0.0     0.0   \n",
       "5571      21      1.682391           0.0              0.0     0.0   \n",
       "\n",
       "      0089my last  0121  0121 2025050  01223585236  01223585236 xx  ...  \\\n",
       "0             0.0   0.0           0.0          0.0             0.0  ...   \n",
       "1             0.0   0.0           0.0          0.0             0.0  ...   \n",
       "2             0.0   0.0           0.0          0.0             0.0  ...   \n",
       "3             0.0   0.0           0.0          0.0             0.0  ...   \n",
       "4             0.0   0.0           0.0          0.0             0.0  ...   \n",
       "...           ...   ...           ...          ...             ...  ...   \n",
       "5567          0.0   0.0           0.0          0.0             0.0  ...   \n",
       "5568          0.0   0.0           0.0          0.0             0.0  ...   \n",
       "5569          0.0   0.0           0.0          0.0             0.0  ...   \n",
       "5570          0.0   0.0           0.0          0.0             0.0  ...   \n",
       "5571          0.0   0.0           0.0          0.0             0.0  ...   \n",
       "\n",
       "      ãœ thk  ãœ wait  ãœ wan  ãœ wana  ãœ want  ãœ write  ãœll  ãœll take  \\\n",
       "0        0.0      0.0     0.0      0.0      0.0       0.0   0.0        0.0   \n",
       "1        0.0      0.0     0.0      0.0      0.0       0.0   0.0        0.0   \n",
       "2        0.0      0.0     0.0      0.0      0.0       0.0   0.0        0.0   \n",
       "3        0.0      0.0     0.0      0.0      0.0       0.0   0.0        0.0   \n",
       "4        0.0      0.0     0.0      0.0      0.0       0.0   0.0        0.0   \n",
       "...      ...      ...     ...      ...      ...       ...   ...        ...   \n",
       "5567     0.0      0.0     0.0      0.0      0.0       0.0   0.0        0.0   \n",
       "5568     0.0      0.0     0.0      0.0      0.0       0.0   0.0        0.0   \n",
       "5569     0.0      0.0     0.0      0.0      0.0       0.0   0.0        0.0   \n",
       "5570     0.0      0.0     0.0      0.0      0.0       0.0   0.0        0.0   \n",
       "5571     0.0      0.0     0.0      0.0      0.0       0.0   0.0        0.0   \n",
       "\n",
       "      œharry  œharry potter  \n",
       "0        0.0            0.0  \n",
       "1        0.0            0.0  \n",
       "2        0.0            0.0  \n",
       "3        0.0            0.0  \n",
       "4        0.0            0.0  \n",
       "...      ...            ...  \n",
       "5567     0.0            0.0  \n",
       "5568     0.0            0.0  \n",
       "5569     0.0            0.0  \n",
       "5570     0.0            0.0  \n",
       "5571     0.0            0.0  \n",
       "\n",
       "[5572 rows x 40792 columns]"
      ]
     },
     "execution_count": 24,
     "metadata": {},
     "output_type": "execute_result"
    }
   ],
   "source": [
    "y=data.label\n",
    "x=pd.concat([data[[\"length\",\"punc_percent\"]],df],axis=1)\n",
    "x"
   ]
  },
  {
   "cell_type": "code",
   "execution_count": 25,
   "id": "ac513497",
   "metadata": {
    "execution": {
     "iopub.execute_input": "2023-04-27T07:46:45.209497Z",
     "iopub.status.busy": "2023-04-27T07:46:45.209028Z",
     "iopub.status.idle": "2023-04-27T07:47:49.362585Z",
     "shell.execute_reply": "2023-04-27T07:47:49.361060Z"
    },
    "papermill": {
     "duration": 64.187133,
     "end_time": "2023-04-27T07:47:49.379605",
     "exception": false,
     "start_time": "2023-04-27T07:46:45.192472",
     "status": "completed"
    },
    "tags": []
   },
   "outputs": [
    {
     "data": {
      "text/plain": [
       "array([0.97309417, 0.97309417, 0.96947935, 0.95870736, 0.96499102])"
      ]
     },
     "execution_count": 25,
     "metadata": {},
     "output_type": "execute_result"
    }
   ],
   "source": [
    "rf=RandomForestClassifier(n_jobs=-1,random_state=1)\n",
    "k_fold=KFold(n_splits=5)\n",
    "cross_val_score(rf,x,y,cv=k_fold,scoring=\"accuracy\",n_jobs=-1)"
   ]
  },
  {
   "cell_type": "code",
   "execution_count": 26,
   "id": "757cb846",
   "metadata": {
    "execution": {
     "iopub.execute_input": "2023-04-27T07:47:49.414192Z",
     "iopub.status.busy": "2023-04-27T07:47:49.412498Z",
     "iopub.status.idle": "2023-04-27T07:47:49.419931Z",
     "shell.execute_reply": "2023-04-27T07:47:49.418520Z"
    },
    "papermill": {
     "duration": 0.027824,
     "end_time": "2023-04-27T07:47:49.422856",
     "exception": false,
     "start_time": "2023-04-27T07:47:49.395032",
     "status": "completed"
    },
    "tags": []
   },
   "outputs": [],
   "source": [
    "from sklearn.metrics import precision_recall_fscore_support as score\n",
    "from sklearn.model_selection import train_test_split"
   ]
  },
  {
   "cell_type": "code",
   "execution_count": 27,
   "id": "795127ad",
   "metadata": {
    "execution": {
     "iopub.execute_input": "2023-04-27T07:47:49.456249Z",
     "iopub.status.busy": "2023-04-27T07:47:49.455447Z",
     "iopub.status.idle": "2023-04-27T07:48:00.404019Z",
     "shell.execute_reply": "2023-04-27T07:48:00.402519Z"
    },
    "papermill": {
     "duration": 10.968812,
     "end_time": "2023-04-27T07:48:00.407197",
     "exception": false,
     "start_time": "2023-04-27T07:47:49.438385",
     "status": "completed"
    },
    "tags": []
   },
   "outputs": [],
   "source": [
    "x_train,x_test,y_train,y_test=train_test_split(x,y)\n",
    "rf_model=rf.fit(x_train,y_train)"
   ]
  },
  {
   "cell_type": "code",
   "execution_count": 28,
   "id": "fb918270",
   "metadata": {
    "execution": {
     "iopub.execute_input": "2023-04-27T07:48:00.440370Z",
     "iopub.status.busy": "2023-04-27T07:48:00.439229Z",
     "iopub.status.idle": "2023-04-27T07:48:00.622229Z",
     "shell.execute_reply": "2023-04-27T07:48:00.621198Z"
    },
    "papermill": {
     "duration": 0.202433,
     "end_time": "2023-04-27T07:48:00.625121",
     "exception": false,
     "start_time": "2023-04-27T07:48:00.422688",
     "status": "completed"
    },
    "tags": []
   },
   "outputs": [
    {
     "data": {
      "text/plain": [
       "[(0.03042092642455796, 'length'),\n",
       " (0.022964225955827134, 'call'),\n",
       " (0.02234346161202723, 'txt'),\n",
       " (0.016030303505343544, 'free'),\n",
       " (0.015024524928016833, 'claim'),\n",
       " (0.014126389438372257, 'service'),\n",
       " (0.012447444133653661, 'mobile'),\n",
       " (0.009820882742823025, 'tone'),\n",
       " (0.009714907662072633, 'stop'),\n",
       " (0.00822849096694966, 'prize'),\n",
       " (0.008207720970884414, 'reply'),\n",
       " (0.008043100034714347, 'text'),\n",
       " (0.007681041833372217, 'win'),\n",
       " (0.00754881591296261, 'urgent'),\n",
       " (0.005482348348009274, 'customer'),\n",
       " (0.005263243479052502, '18'),\n",
       " (0.005225474426418689, '500'),\n",
       " (0.0050917015866397035, '1000'),\n",
       " (0.004759021590232681, '16'),\n",
       " (0.004445255614665762, '100')]"
      ]
     },
     "execution_count": 28,
     "metadata": {},
     "output_type": "execute_result"
    }
   ],
   "source": [
    "sorted(zip(rf_model.feature_importances_,x.columns),reverse=True)[:20]"
   ]
  },
  {
   "cell_type": "code",
   "execution_count": 29,
   "id": "e90e2e9f",
   "metadata": {
    "execution": {
     "iopub.execute_input": "2023-04-27T07:48:00.658444Z",
     "iopub.status.busy": "2023-04-27T07:48:00.657529Z",
     "iopub.status.idle": "2023-04-27T07:48:01.399090Z",
     "shell.execute_reply": "2023-04-27T07:48:01.397654Z"
    },
    "papermill": {
     "duration": 0.761768,
     "end_time": "2023-04-27T07:48:01.402533",
     "exception": false,
     "start_time": "2023-04-27T07:48:00.640765",
     "status": "completed"
    },
    "tags": []
   },
   "outputs": [],
   "source": [
    "y_pred=rf_model.predict(x_test)\n",
    "precision,recall,fscore,support=score(y_test,y_pred,labels=[\"spam\"])"
   ]
  },
  {
   "cell_type": "code",
   "execution_count": 30,
   "id": "861d99c9",
   "metadata": {
    "execution": {
     "iopub.execute_input": "2023-04-27T07:48:01.436347Z",
     "iopub.status.busy": "2023-04-27T07:48:01.435429Z",
     "iopub.status.idle": "2023-04-27T07:48:01.444244Z",
     "shell.execute_reply": "2023-04-27T07:48:01.443317Z"
    },
    "papermill": {
     "duration": 0.028592,
     "end_time": "2023-04-27T07:48:01.446664",
     "exception": false,
     "start_time": "2023-04-27T07:48:01.418072",
     "status": "completed"
    },
    "tags": []
   },
   "outputs": [
    {
     "data": {
      "text/plain": [
       "(1.0, 0.7333333333333333, 0.846153846153846, 195.0)"
      ]
     },
     "execution_count": 30,
     "metadata": {},
     "output_type": "execute_result"
    }
   ],
   "source": [
    "float(precision),float(recall),float(fscore),float(support)"
   ]
  },
  {
   "cell_type": "code",
   "execution_count": 31,
   "id": "56b249f5",
   "metadata": {
    "execution": {
     "iopub.execute_input": "2023-04-27T07:48:01.480214Z",
     "iopub.status.busy": "2023-04-27T07:48:01.479304Z",
     "iopub.status.idle": "2023-04-27T07:48:01.486625Z",
     "shell.execute_reply": "2023-04-27T07:48:01.485304Z"
    },
    "papermill": {
     "duration": 0.026943,
     "end_time": "2023-04-27T07:48:01.489114",
     "exception": false,
     "start_time": "2023-04-27T07:48:01.462171",
     "status": "completed"
    },
    "tags": []
   },
   "outputs": [
    {
     "name": "stdout",
     "output_type": "stream",
     "text": [
      "Accuracy: 0.9626704953338119\n"
     ]
    }
   ],
   "source": [
    "print(\"Accuracy: {}\".format((y_pred==y_test).sum()/len(y_pred)))"
   ]
  }
 ],
 "metadata": {
  "kernelspec": {
   "display_name": "Python 3",
   "language": "python",
   "name": "python3"
  },
  "language_info": {
   "codemirror_mode": {
    "name": "ipython",
    "version": 3
   },
   "file_extension": ".py",
   "mimetype": "text/x-python",
   "name": "python",
   "nbconvert_exporter": "python",
   "pygments_lexer": "ipython3",
   "version": "3.7.12"
  },
  "papermill": {
   "default_parameters": {},
   "duration": 117.194921,
   "end_time": "2023-04-27T07:48:04.129125",
   "environment_variables": {},
   "exception": null,
   "input_path": "__notebook__.ipynb",
   "output_path": "__notebook__.ipynb",
   "parameters": {},
   "start_time": "2023-04-27T07:46:06.934204",
   "version": "2.4.0"
  }
 },
 "nbformat": 4,
 "nbformat_minor": 5
}
